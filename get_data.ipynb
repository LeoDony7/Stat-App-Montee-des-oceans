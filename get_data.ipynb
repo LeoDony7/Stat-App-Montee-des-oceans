{
 "cells": [
  {
   "cell_type": "code",
   "execution_count": null,
   "metadata": {},
   "outputs": [],
   "source": [
    "# Import modules\n",
    "import copernicusmarine\n",
    "from pprint import pprint\n",
    "\n",
    "# Define parameters to run the extraction\n",
    "dataset_id = \"cmems-IFREMER-ATL-SST-L4-REP-OBS_FULL_TIME_SERIE\"\n",
    "\n",
    "\n",
    "# Define output storage parameters\n",
    "output_directory = \"./my_data_folder/eursst_folder\"\n",
    "\n",
    "# Call the get function to save data\n",
    "get_result = copernicusmarine.get(\n",
    "    dataset_id=dataset_id,\n",
    "    filter = \"*0701*\",\n",
    "    output_directory=output_directory,\n",
    "    no_directories=True)\n",
    "\n",
    "pprint(f\"List of saved files: {get_result}\")"
   ]
  }
 ],
 "metadata": {
  "kernelspec": {
   "display_name": "base",
   "language": "python",
   "name": "python3"
  },
  "language_info": {
   "name": "python",
   "version": "3.12.7"
  }
 },
 "nbformat": 4,
 "nbformat_minor": 2
}
